{
 "cells": [
  {
   "cell_type": "code",
   "execution_count": null,
   "id": "1a1b2a36",
   "metadata": {},
   "outputs": [],
   "source": [
    "import pandas as pd\n",
    "import requests\n",
    "from config import g_key\n",
    "import numpy as np"
   ]
  },
  {
   "cell_type": "code",
   "execution_count": null,
   "id": "a94fe73c",
   "metadata": {},
   "outputs": [],
   "source": [
    "#Read in CSV\n",
    "file_name=\"LatLngSample.csv\"\n",
    "shark_df=pd.read_csv(file_name)\n",
    "shark_df.head()"
   ]
  },
  {
   "cell_type": "code",
   "execution_count": null,
   "id": "0a96de8c",
   "metadata": {
    "scrolled": true
   },
   "outputs": [],
   "source": [
    "shark_df[\"Location\"]=shark_df[\"Location\"].fillna(value=\" \")\n",
    "shark_df"
   ]
  },
  {
   "cell_type": "code",
   "execution_count": null,
   "id": "c20ab62a",
   "metadata": {
    "scrolled": true
   },
   "outputs": [],
   "source": [
    "iso=shark_df[\"ISO Code\"].tolist()\n",
    "loc=shark_df[\"Location\"].tolist()\n",
    "iso_loc_zip=zip(iso, loc)\n",
    "iso_loc=list(iso_loc_zip)\n"
   ]
  },
  {
   "cell_type": "code",
   "execution_count": null,
   "id": "3b7507ef",
   "metadata": {},
   "outputs": [],
   "source": [
    "lat_lng_list=[]\n",
    "\n",
    "print(\"Beginning API\")\n",
    "print(\"---------\")\n",
    "\n",
    "#Create counters\n",
    "record_count= 1\n",
    "set_count=1\n",
    "\n",
    "for iso, loc in enumerate(iso_loc):     \n",
    "    ISO=iso_loc[iso][0]\n",
    "    LOC=iso_loc[iso][1].replace(\" \", \"+\")\n",
    "    url=\"https://maps.googleapis.com/maps/api/geocode/json?address=\" + LOC + \"+District&components=country:\" + ISO + \"&key=\" + g_key\n",
    "\n",
    "    try:\n",
    "        #Parse JSON data\n",
    "        lat_lng=requests.get(url).json()\n",
    "        #Needed data\n",
    "        city_lat=lat_lng[\"results\"][0][\"geometry\"][\"location\"][\"lat\"]\n",
    "        city_lng=lat_lng[\"results\"][0][\"geometry\"][\"location\"][\"lng\"]\n",
    "        lat_lng_list.append({\"Lat\":city_lat,\n",
    "                            \"Lng\" : city_lng})\n",
    "        \n",
    "    except:\n",
    "        print (\"Lat/Long Not Found\")\n",
    "        lat_lng_list.append({\"Lat\":0,\n",
    "                            \"Lng\" :0})\n",
    "        pass\n",
    "\n",
    "print (\"--------\")\n",
    "print (\"API Run Complete\")"
   ]
  },
  {
   "cell_type": "code",
   "execution_count": null,
   "id": "c796da76",
   "metadata": {},
   "outputs": [],
   "source": [
    "lat_lng_df=pd.DataFrame(lat_lng_list)\n",
    "lat_lng_df"
   ]
  },
  {
   "cell_type": "code",
   "execution_count": null,
   "id": "470d7799",
   "metadata": {},
   "outputs": [],
   "source": [
    "shark_df[\"Lat\"] = lat_lng_df[\"Lat\"]\n",
    "shark_df[\"Lng\"]= lat_lng_df[\"Lng\"]\n",
    "shark_df"
   ]
  },
  {
   "cell_type": "code",
   "execution_count": null,
   "id": "8b86b9bb",
   "metadata": {},
   "outputs": [],
   "source": [
    "#Export to new CSV\n",
    "shark_df.to_csv(\"shark_data_with_lat_lng.csv\")"
   ]
  }
 ],
 "metadata": {
  "kernelspec": {
   "display_name": "PythonData",
   "language": "python",
   "name": "pythondata"
  },
  "language_info": {
   "codemirror_mode": {
    "name": "ipython",
    "version": 3
   },
   "file_extension": ".py",
   "mimetype": "text/x-python",
   "name": "python",
   "nbconvert_exporter": "python",
   "pygments_lexer": "ipython3",
   "version": "3.7.10"
  }
 },
 "nbformat": 4,
 "nbformat_minor": 5
}
